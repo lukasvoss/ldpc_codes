{
 "cells": [
  {
   "cell_type": "code",
   "execution_count": 76,
   "metadata": {},
   "outputs": [],
   "source": [
    "import numpy as np\n",
    "from itertools import product\n",
    "from bposd.css import css_code"
   ]
  },
  {
   "cell_type": "code",
   "execution_count": 77,
   "metadata": {},
   "outputs": [],
   "source": [
    "def get_valid_powers_for_summands(summand_combo, l, m, range_A, range_B):\n",
    "    \"\"\"\n",
    "    Generates valid power combinations for a given summand combination,\n",
    "    respecting the constraints for 'x', 'y', 'z', and the specified ranges for A and B.\n",
    "\n",
    "    Args:\n",
    "    - summand_combo: A combination of summands ('x', 'y', 'z').\n",
    "    - l, m: The limits for 'x' and 'y', respectively. For 'z', the limit is max(l, m).\n",
    "    - range_A, range_B: Ranges of exponents for terms in A and B to be within.\n",
    "\n",
    "    Returns:\n",
    "    - A generator that yields valid combinations of powers for the summands.\n",
    "    \"\"\"\n",
    "    # Define initial power ranges based on summand type\n",
    "    power_ranges = {\n",
    "        \"x\": range(max(1, min(range_A)), min(l, max(range_A))),\n",
    "        \"y\": range(max(1, min(range_B)), min(m, max(range_B))),\n",
    "        \"z\": range(\n",
    "            max(1, min(min(range_A), min(range_B))),\n",
    "            min(max(l, m), max(max(range_A), max(range_B))),\n",
    "        ),\n",
    "    }\n",
    "\n",
    "    # Get the adjusted power range for each summand in the combination\n",
    "    ranges_for_combo = [power_ranges[summand] for summand in summand_combo]\n",
    "\n",
    "    # Use product to generate all valid combinations within the specified ranges\n",
    "    return product(*ranges_for_combo)\n",
    "\n",
    "def get_net_encoding_rate(\n",
    "    k: int,\n",
    "    n: int,\n",
    ") -> float:\n",
    "    return k / (2.0 * n)"
   ]
  },
  {
   "cell_type": "code",
   "execution_count": 78,
   "metadata": {},
   "outputs": [],
   "source": [
    "l, m = 2, 2\n",
    "weight = 4\n",
    "power_range_A = [1, 2, 3]\n",
    "power_range_B = [1, 2, 3]\n",
    "\n",
    "good_configs = []"
   ]
  },
  {
   "cell_type": "code",
   "execution_count": 79,
   "metadata": {},
   "outputs": [],
   "source": [
    "I_ell = np.identity(l, dtype=int)\n",
    "I_m = np.identity(m, dtype=int)\n",
    "x, y, z = {}, {}, {}\n",
    "\n",
    "# Generate base matrices x and y\n",
    "for i in range(l):\n",
    "        x[i] = np.kron(np.roll(I_ell, i, axis=1), I_m)\n",
    "for j in range(m):\n",
    "    y[j] = np.kron(I_ell, np.roll(I_m, j, axis=1))\n",
    "\n",
    "# Create base matrix z\n",
    "for k in range(np.max([l, m])):\n",
    "    z[k] = np.kron(np.roll(I_ell, k, axis=1), np.roll(I_m, k, axis=1))\n"
   ]
  },
  {
   "cell_type": "code",
   "execution_count": 81,
   "metadata": {},
   "outputs": [],
   "source": [
    "weight_A = 2 # Ensure at least one term in A and B # TODO: Could think of also raising to the power of zero leading to identity matrix\n",
    "weight_B = weight - weight_A\n",
    "\n",
    "# Generate all combinations of summands in A and B with their respective weights\n",
    "summands_A = list(product([\"x\", \"y\", \"z\"], repeat=weight_A))\n",
    "summands_B = list(product([\"x\", \"y\", \"z\"], repeat=weight_B))\n",
    "\n",
    "for summand_combo_A, summand_combo_B in product(\n",
    "    summands_A, summands_B\n",
    "):\n",
    "    # Check for powers_A\n",
    "    # Iterate over power ranges for each summand in A and B\n",
    "    for powers_A in get_valid_powers_for_summands(\n",
    "        summand_combo_A, l, m, power_range_A, power_range_B\n",
    "    ):\n",
    "        # Check for powers_B\n",
    "        for powers_B in get_valid_powers_for_summands(\n",
    "            summand_combo_B, l, m, power_range_A, power_range_B\n",
    "        ):\n",
    "            A, B = np.zeros((l*m, l*m), dtype=int), np.zeros((l*m, l*m), dtype=int)\n",
    "            A_poly_sum, B_poly_sum = '', ''\n",
    "\n",
    "            # Construct A with its summands and powers\n",
    "            for summand, power in zip(summand_combo_A, powers_A):\n",
    "                if summand == 'x':\n",
    "                    matrix = x[power]\n",
    "                elif summand == 'y':\n",
    "                    matrix = y[power]\n",
    "                elif summand == 'z':\n",
    "                    matrix = z[power]\n",
    "                A += matrix\n",
    "                A_poly_sum += f\"{summand}{power} + \"\n",
    "\n",
    "            # Construct B with its summands and powers\n",
    "            for summand, power in zip(summand_combo_B, powers_B):\n",
    "                if summand == 'x':\n",
    "                    matrix = x[power]\n",
    "                elif summand == 'y':\n",
    "                    matrix = y[power]\n",
    "                elif summand == 'z':\n",
    "                    matrix = z[power]\n",
    "                B += matrix\n",
    "                B_poly_sum += f\"{summand}{power} + \"\n",
    "\n",
    "            A = A % 3\n",
    "            B = B % 3\n",
    "\n",
    "            # Remove trailing ' + '\n",
    "            A_poly_sum = A_poly_sum.rstrip(' + ')\n",
    "            B_poly_sum = B_poly_sum.rstrip(' + ')\n",
    "\n",
    "            # Transpose matrices A and B\n",
    "            AT = np.transpose(A)\n",
    "            BT = np.transpose(B)\n",
    "            C = -BT % 3\n",
    "\n",
    "            # Construct matrices hx and hz\n",
    "            hx = np.hstack((A, B))\n",
    "            hz = np.hstack((C, AT))\n",
    "\n",
    "            # Construct and test the CSS code\n",
    "            # qcode = css_code(hx, hz)  # Define css_code, assuming it's defined elsewhere\n",
    "            #if qcode.test():  # Define the test method for qcode\n",
    "            # r = get_net_encoding_rate(qcode.K, qcode.N)  # Define get_net_encoding_rate\n",
    "            # encoding_rate_threshold = 1/15\n",
    "            # if r > encoding_rate_threshold:  # Check your specific criteria for good configurations\n",
    "            code_config = {\n",
    "                'l': l,\n",
    "                'm': m,\n",
    "                # 'num_phys_qubits': qcode.N,\n",
    "                # 'num_log_qubits': qcode.K,\n",
    "                'hx': hx,\n",
    "                'hz': hz,\n",
    "                # 'lx': qcode.lx,\n",
    "                # 'k': qcode.lz.shape[0], \n",
    "                # 'encoding_rate': r,\n",
    "                'A_poly_sum': A_poly_sum,\n",
    "                'B_poly_sum': B_poly_sum\n",
    "            }\n",
    "            good_configs.append(code_config)\n"
   ]
  },
  {
   "cell_type": "code",
   "execution_count": 84,
   "metadata": {},
   "outputs": [
    {
     "data": {
      "text/plain": [
       "81"
      ]
     },
     "execution_count": 84,
     "metadata": {},
     "output_type": "execute_result"
    }
   ],
   "source": [
    "len(good_configs)"
   ]
  },
  {
   "cell_type": "code",
   "execution_count": 85,
   "metadata": {},
   "outputs": [
    {
     "data": {
      "text/plain": [
       "{'l': 2,\n",
       " 'm': 2,\n",
       " 'hx': array([[0, 1, 1, 0, 0, 0, 1, 1],\n",
       "        [1, 0, 0, 1, 0, 0, 1, 1],\n",
       "        [1, 0, 0, 1, 1, 1, 0, 0],\n",
       "        [0, 1, 1, 0, 1, 1, 0, 0]]),\n",
       " 'hz': array([[0, 0, 2, 2, 0, 1, 1, 0],\n",
       "        [0, 0, 2, 2, 1, 0, 0, 1],\n",
       "        [2, 2, 0, 0, 1, 0, 0, 1],\n",
       "        [2, 2, 0, 0, 0, 1, 1, 0]]),\n",
       " 'A_poly_sum': 'x1 + y1',\n",
       " 'B_poly_sum': 'x1 + z1'}"
      ]
     },
     "execution_count": 85,
     "metadata": {},
     "output_type": "execute_result"
    }
   ],
   "source": [
    "good_configs[11]"
   ]
  }
 ],
 "metadata": {
  "kernelspec": {
   "display_name": "Python 3",
   "language": "python",
   "name": "python3"
  },
  "language_info": {
   "codemirror_mode": {
    "name": "ipython",
    "version": 3
   },
   "file_extension": ".py",
   "mimetype": "text/x-python",
   "name": "python",
   "nbconvert_exporter": "python",
   "pygments_lexer": "ipython3",
   "version": "3.9.6"
  },
  "orig_nbformat": 4
 },
 "nbformat": 4,
 "nbformat_minor": 2
}
