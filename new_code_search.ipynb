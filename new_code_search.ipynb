{
 "cells": [
  {
   "attachments": {},
   "cell_type": "markdown",
   "metadata": {},
   "source": [
    "## Full parameter search for new LPDC codes"
   ]
  },
  {
   "attachments": {},
   "cell_type": "markdown",
   "metadata": {},
   "source": [
    "#### Imports"
   ]
  },
  {
   "cell_type": "code",
   "execution_count": 1,
   "metadata": {},
   "outputs": [],
   "source": [
    "import sys\n",
    "import io\n",
    "import numpy as np\n",
    "import re\n",
    "import time\n",
    "import itertools\n",
    "from numpy.linalg import matrix_power as matrix_power\n",
    "from numpy.linalg import matrix_rank as matrix_rank\n",
    "\n",
    "\n",
    "from mip import Model, xsum, minimize, BINARY\n",
    "from bposd.css import css_code\n",
    "from concurrent.futures import ThreadPoolExecutor\n",
    "import multiprocessing\n",
    "\n",
    "from parallel_functions import process_combination"
   ]
  },
  {
   "attachments": {},
   "cell_type": "markdown",
   "metadata": {},
   "source": [
    "#### Helper Functions"
   ]
  },
  {
   "cell_type": "code",
   "execution_count": 2,
   "metadata": {},
   "outputs": [],
   "source": [
    "def get_net_encoding_rate(k, n):\n",
    "    return k / (2*n)"
   ]
  },
  {
   "cell_type": "code",
   "execution_count": 3,
   "metadata": {},
   "outputs": [],
   "source": [
    "# computes the minimum Hamming weight of a binary vector x such that\n",
    "# stab @ x = 0 mod 2\n",
    "# logicOp @ x = 1 mod 2\n",
    "# here stab is a binary matrix and logicOp is a binary vector\n",
    "def distance_test(stab,logicOp):\n",
    "  # number of qubits\n",
    "  n = stab.shape[1]\n",
    "  # number of stabilizers\n",
    "  m = stab.shape[0]\n",
    "\n",
    "  # maximum stabilizer weight\n",
    "  wstab = np.max([np.sum(stab[i,:]) for i in range(m)])\n",
    "  # weight of the logical operator\n",
    "  wlog = np.count_nonzero(logicOp)\n",
    "  # how many slack variables are needed to express orthogonality constraints modulo two\n",
    "  num_anc_stab = int(np.ceil(np.log2(wstab)))\n",
    "  num_anc_logical = int(np.ceil(np.log2(wlog)))\n",
    "  # total number of variables\n",
    "  num_var = n + m*num_anc_stab + num_anc_logical\n",
    "\n",
    "  model = Model()\n",
    "  model.verbose = 0\n",
    "  x = [model.add_var(var_type=BINARY) for i in range(num_var)]\n",
    "  model.objective = minimize(xsum(x[i] for i in range(n)))\n",
    "\n",
    "  # orthogonality to rows of stab constraints\n",
    "  for row in range(m):\n",
    "    weight = [0]*num_var\n",
    "    supp = np.nonzero(stab[row,:])[0]\n",
    "    for q in supp:\n",
    "      weight[q] = 1\n",
    "    cnt = 1\n",
    "    for q in range(num_anc_stab):\n",
    "      weight[n + row*num_anc_stab +q] = -(1<<cnt)\n",
    "      cnt+=1\n",
    "    model+= xsum(weight[i] * x[i] for i in range(num_var)) == 0\n",
    "\n",
    "  # odd overlap with logicOp constraint\n",
    "  supp = np.nonzero(logicOp)[0]\n",
    "  weight = [0]*num_var\n",
    "  for q in supp:\n",
    "    weight[q] = 1\n",
    "  cnt = 1\n",
    "  for q in range(num_anc_logical):\n",
    "      weight[n + m*num_anc_stab +q] = -(1<<cnt)\n",
    "      cnt+=1\n",
    "  model+= xsum(weight[i] * x[i] for i in range(num_var)) == 1\n",
    "\n",
    "  model.optimize()\n",
    "\n",
    "  opt_val = sum([x[i].x for i in range(n)])\n",
    "\n",
    "  return int(opt_val)\n",
    "\n",
    "\n",
    "def distance_test_parallel(stab, logicOp):\n",
    "    n = stab.shape[1]  # number of qubits\n",
    "    m = stab.shape[0]  # number of stabilizers\n",
    "\n",
    "    # Parallel computation of wstab\n",
    "    with ThreadPoolExecutor() as executor:\n",
    "        wstab_list = list(executor.map(np.sum, stab))\n",
    "    wstab = np.max(wstab_list)\n",
    "\n",
    "    wlog = np.count_nonzero(logicOp)\n",
    "    num_anc_stab = int(np.ceil(np.log2(wstab)))\n",
    "    num_anc_logical = int(np.ceil(np.log2(wlog)))\n",
    "    num_var = n + m * num_anc_stab + num_anc_logical\n",
    "\n",
    "    model = Model()\n",
    "    model.verbose = 0\n",
    "    x = [model.add_var(var_type=BINARY) for i in range(num_var)]\n",
    "    model.objective = minimize(xsum(x[i] for i in range(n)))\n",
    "\n",
    "    # Function to prepare and add a constraint for a row of stab\n",
    "    def add_stab_constraint(row):\n",
    "        weight = [0] * num_var\n",
    "        supp = np.nonzero(stab[row, :])[0]\n",
    "        for q in supp:\n",
    "            weight[q] = 1\n",
    "        cnt = 1\n",
    "        for q in range(num_anc_stab):\n",
    "            weight[n + row * num_anc_stab + q] = -(1 << cnt)\n",
    "            cnt += 1\n",
    "        return xsum(weight[i] * x[i] for i in range(num_var)) == 0\n",
    "\n",
    "    # Parallel addition of orthogonality constraints\n",
    "    with ThreadPoolExecutor() as executor:\n",
    "        constraints = list(executor.map(add_stab_constraint, range(m)))\n",
    "    for constraint in constraints:\n",
    "        model += constraint\n",
    "\n",
    "    # Adding odd overlap with logicOp constraint (not parallelized)\n",
    "    supp = np.nonzero(logicOp)[0]\n",
    "    weight = [0] * num_var\n",
    "    for q in supp:\n",
    "        weight[q] = 1\n",
    "    cnt = 1\n",
    "    for q in range(num_anc_logical):\n",
    "        weight[n + m * num_anc_stab + q] = -(1 << cnt)\n",
    "        cnt += 1\n",
    "    model += xsum(weight[i] * x[i] for i in range(num_var)) == 1\n",
    "\n",
    "    model.optimize()\n",
    "    opt_val = sum(x[i].x for i in range(n))\n",
    "\n",
    "    return int(opt_val)"
   ]
  },
  {
   "cell_type": "code",
   "execution_count": 4,
   "metadata": {},
   "outputs": [],
   "source": [
    "def search_codes(max_ell, max_m, num_summands_a, num_summands_b):\n",
    "    good_configs = []\n",
    "\n",
    "    for ell in range(6, max_ell + 1):\n",
    "        for m in range(6, max_m + 1):\n",
    "            I_ell = np.identity(ell, dtype=int)\n",
    "            I_m = np.identity(m, dtype=int)\n",
    "            x, y = {}, {}\n",
    "            for i in range(ell):\n",
    "                x[i] = np.kron(np.roll(I_ell, i, axis=1), I_m)\n",
    "            for j in range(m):\n",
    "                y[j] = np.kron(I_ell, np.roll(I_m, j, axis=1))\n",
    "\n",
    "            # Iterate over all possible fixed indices for x in A and y in B\n",
    "            for fixed_x_index_a in range(1, 4):\n",
    "                for fixed_y_index_b in range(1, 4):\n",
    "                    # Exclude the fixed indices from the possible combinations\n",
    "                    x_indices = [i for i in range(ell) if i != fixed_x_index_a]\n",
    "                    y_indices = [i for i in range(m) if i != fixed_y_index_b]\n",
    "\n",
    "                    # Iterate over combinations for the non-fixed terms\n",
    "                    for combo_a in itertools.combinations(y_indices, num_summands_a - 1):  # -1 for the fixed x term\n",
    "                        for combo_b in itertools.combinations(x_indices, num_summands_b - 1):  # -1 for the fixed y term\n",
    "                            # Construct A and B with the fixed term and current combinations\n",
    "                            A = x[fixed_x_index_a]\n",
    "                            for idx in combo_a:\n",
    "                                A += y[idx]\n",
    "                            A %= 2\n",
    "\n",
    "                            B = y[fixed_y_index_b]\n",
    "                            for idx in combo_b:\n",
    "                                B += x[idx]\n",
    "                            B %= 2\n",
    "\n",
    "                            # Construct polynomial sum strings for A and B\n",
    "                            A_poly_sum = f\"x{fixed_x_index_a}\" + \" + \" + \" + \".join(f\"y{idx}\" for idx in combo_a)\n",
    "                            B_poly_sum = f\"y{fixed_y_index_b}\" + \" + \" + \" + \".join(f\"x{idx}\" for idx in combo_b)\n",
    "\n",
    "                            # Transpose matrices A and B\n",
    "                            AT = np.transpose(A)\n",
    "                            BT = np.transpose(B)\n",
    "\n",
    "                            # Construct matrices hx and hz\n",
    "                            hx = np.hstack((A, B))\n",
    "                            hz = np.hstack((BT, AT))\n",
    "\n",
    "                            # Construct the CSS code and test it\n",
    "                            qcode = css_code(hx, hz)  # Assuming css_code is defined elsewhere\n",
    "                            if qcode.test():  # Assuming the test method is defined for qcode\n",
    "                                r = get_net_encoding_rate(qcode.K, qcode.N)  # Assuming this function is defined\n",
    "                                if r > 1/15:  # Your specific criteria for good configurations\n",
    "                                    code_config = {\n",
    "                                        'ell': ell,\n",
    "                                        'm': m,\n",
    "                                        'n_phys_qubits': qcode.N,\n",
    "                                        'n_log_qubits': qcode.K,\n",
    "                                        'encoding_rate': r,\n",
    "                                        'A_poly_sum': A_poly_sum,\n",
    "                                        'B_poly_sum': B_poly_sum\n",
    "                                    }\n",
    "                                    good_configs.append(code_config)\n",
    "\n",
    "    return good_configs\n"
   ]
  },
  {
   "cell_type": "code",
   "execution_count": 5,
   "metadata": {},
   "outputs": [
    {
     "data": {
      "text/plain": [
       "4"
      ]
     },
     "execution_count": 5,
     "metadata": {},
     "output_type": "execute_result"
    }
   ],
   "source": [
    "### Surpress the print statements of the qcode.test() function\n",
    "# Save the current stdout so we can restore it later\n",
    "original_stdout = sys.stdout\n",
    "# Redirect stdout to a dummy StringIO object\n",
    "sys.stdout = io.StringIO()\n",
    "\n",
    "# Example usage\n",
    "good_configs = search_codes(max_ell=6, max_m=6, num_summands_a=3, num_summands_b=3)\n",
    "len(good_configs)"
   ]
  },
  {
   "attachments": {},
   "cell_type": "markdown",
   "metadata": {},
   "source": [
    "#### Verify if the code in the paper can be found/reproduced with the code search function"
   ]
  },
  {
   "cell_type": "code",
   "execution_count": 6,
   "metadata": {},
   "outputs": [
    {
     "data": {
      "text/plain": [
       "{'ell': 6,\n",
       " 'm': 6,\n",
       " 'n_phys_qubits': 72,\n",
       " 'n_log_qubits': 12,\n",
       " 'encoding_rate': 0.08333333333333333,\n",
       " 'A_poly_sum': 'x3 + y1 + y2',\n",
       " 'B_poly_sum': 'y3 + x1 + x2'}"
      ]
     },
     "execution_count": 6,
     "metadata": {},
     "output_type": "execute_result"
    }
   ],
   "source": [
    "# Look for the first code in the paper of IBM\n",
    "criteria = {'ell': 6, 'm': 6, 'n_phys_qubits': 72, 'n_log_qubits': 12}\n",
    "\n",
    "filtered_list = [d for d in good_configs if all(d.get(key) == value for key, value in criteria.items())]\n",
    "\n",
    "def find_matching_config(configs, a_poly, b_poly):\n",
    "    for config in configs:\n",
    "        if config.get('A_poly_sum') == a_poly and config.get('B_poly_sum') == b_poly:\n",
    "            print('Found code in the paper!')\n",
    "            return config  # Return the matching config if found\n",
    "    raise ValueError('Code in the paper could not be found! Verify the code search function!')  # Return None if no match is found\n",
    "\n",
    "paper_config = find_matching_config(good_configs, 'x3 + y1 + y2', 'y3 + x1 + x2')\n",
    "paper_config"
   ]
  },
  {
   "attachments": {},
   "cell_type": "markdown",
   "metadata": {},
   "source": [
    "### Parallelization of code search"
   ]
  },
  {
   "cell_type": "code",
   "execution_count": 7,
   "metadata": {},
   "outputs": [],
   "source": [
    "def build_code(max_ell, max_m, num_summands_a, num_summands_b):\n",
    "    all_configs = []\n",
    "    args_list = []\n",
    "\n",
    "    for ell in range(6, max_ell + 1):\n",
    "        for m in range(6, max_m + 1):\n",
    "            for fixed_x_exponent_a in range(1, 4):\n",
    "                for fixed_y_exponent_b in range(1, 4):\n",
    "                    args_list.append((ell, m, fixed_x_exponent_a, fixed_y_exponent_b, num_summands_a, num_summands_b))\n",
    "\n",
    "    # Determine the number of processes to use\n",
    "    num_processes = min(multiprocessing.cpu_count(), len(args_list))\n",
    "\n",
    "    with multiprocessing.Pool(processes=num_processes) as pool:\n",
    "        results = pool.map(process_combination, args_list)\n",
    "\n",
    "    # Flatten the list of lists\n",
    "    for result in results:\n",
    "        all_configs.extend(result)\n",
    "\n",
    "    return all_configs"
   ]
  },
  {
   "cell_type": "code",
   "execution_count": 8,
   "metadata": {},
   "outputs": [],
   "source": [
    "### Surpress the print statements of the qcode.test() function\n",
    "# Save the current stdout so we can restore it later\n",
    "original_stdout = sys.stdout\n",
    "# Redirect stdout to a dummy StringIO object\n",
    "sys.stdout = io.StringIO()\n",
    "\n",
    "good_configs_parallel = build_code(\n",
    "    max_ell=6, \n",
    "    max_m=6, \n",
    "    num_summands_a=3, \n",
    "    num_summands_b=3\n",
    ")"
   ]
  },
  {
   "cell_type": "code",
   "execution_count": 9,
   "metadata": {},
   "outputs": [
    {
     "data": {
      "text/plain": [
       "4"
      ]
     },
     "execution_count": 9,
     "metadata": {},
     "output_type": "execute_result"
    }
   ],
   "source": [
    "len(good_configs_parallel)"
   ]
  },
  {
   "cell_type": "code",
   "execution_count": 10,
   "metadata": {},
   "outputs": [
    {
     "data": {
      "text/plain": [
       "{'ell': 6,\n",
       " 'm': 6,\n",
       " 'n_phys_qubits': 72,\n",
       " 'n_log_qubits': 12,\n",
       " 'encoding_rate': 0.08333333333333333,\n",
       " 'A_poly_sum': 'x3 + y1 + y2',\n",
       " 'B_poly_sum': 'y3 + x1 + x2'}"
      ]
     },
     "execution_count": 10,
     "metadata": {},
     "output_type": "execute_result"
    }
   ],
   "source": [
    "filtered_list = [d for d in good_configs_parallel if all(d.get(key) == value for key, value in criteria.items())]\n",
    "\n",
    "def find_matching_config(configs, a_poly, b_poly):\n",
    "    for config in configs:\n",
    "        if config.get('A_poly_sum') == a_poly and config.get('B_poly_sum') == b_poly:\n",
    "            print('Found code in the paper!')\n",
    "            return config  # Return the matching config if found\n",
    "    raise ValueError('Code in the paper could not be found! Verify the code search function!')  # Return None if no match is found\n",
    "\n",
    "paper_config = find_matching_config(good_configs_parallel, 'x3 + y1 + y2', 'y3 + x1 + x2')\n",
    "paper_config"
   ]
  },
  {
   "attachments": {},
   "cell_type": "markdown",
   "metadata": {},
   "source": [
    "#### Rebuild a code from a configuration"
   ]
  },
  {
   "cell_type": "code",
   "execution_count": 11,
   "metadata": {},
   "outputs": [],
   "source": [
    "import numpy as np\n",
    "import re  # For parsing the polynomial strings\n",
    "\n",
    "def rebuild_code(config):\n",
    "    # Extract configuration details\n",
    "    ell = config['ell']\n",
    "    m = config['m']\n",
    "    A_poly_sum = config['A_poly_sum']\n",
    "    B_poly_sum = config['B_poly_sum']\n",
    "\n",
    "    # Define cyclic shift matrices\n",
    "    I_ell = np.identity(ell, dtype=int)\n",
    "    I_m = np.identity(m, dtype=int)\n",
    "    x, y = {}, {}\n",
    "    for i in range(ell):\n",
    "        x[i] = np.kron(np.roll(I_ell, i, axis=1), I_m)\n",
    "    for i in range(m):\n",
    "        y[i] = np.kron(I_ell, np.roll(I_m, i, axis=1))\n",
    "\n",
    "    # Initialize A and B matrices\n",
    "    A = np.zeros((ell*m, ell*m), dtype=int)\n",
    "    B = np.zeros((ell*m, ell*m), dtype=int)\n",
    "\n",
    "    # Parse A_poly_sum and B_poly_sum to construct A and B\n",
    "    for term in re.findall(r'([xy]\\d+)', A_poly_sum):\n",
    "        idx = int(term[1:]) - 1  # Convert term to 0-based index\n",
    "        if term.startswith('x') and idx < ell:\n",
    "            A += x[idx]\n",
    "        elif term.startswith('y') and (idx < m):\n",
    "            A += y[idx]\n",
    "\n",
    "    for term in re.findall(r'([xy]\\d+)', B_poly_sum):\n",
    "        idx = int(term[1:]) - 1  # Convert term to 0-based index\n",
    "        if term.startswith('x') and idx < ell:\n",
    "            B += x[idx]\n",
    "        elif term.startswith('y') and (idx < m):\n",
    "            B += y[idx]\n",
    "\n",
    "    # Ensure matrices are binary\n",
    "    A %= 2\n",
    "    B %= 2\n",
    "\n",
    "    # Transpose matrices A and B\n",
    "    AT = np.transpose(A)\n",
    "    BT = np.transpose(B)\n",
    "\n",
    "    # Construct matrices hx and hz\n",
    "    hx = np.hstack((A, B))\n",
    "    hz = np.hstack((BT, AT))\n",
    "\n",
    "    qcode = css_code(hx, hz)\n",
    "\n",
    "    # Construct and return the CSS code using hx and hz\n",
    "    return {\n",
    "        'qcode': qcode,\n",
    "        'hx': hx,\n",
    "        'hz': hz,\n",
    "    }"
   ]
  },
  {
   "cell_type": "code",
   "execution_count": 12,
   "metadata": {},
   "outputs": [],
   "source": [
    "code_info = rebuild_code(paper_config)\n",
    "print('CSS code rebuilt based on the configuration.')"
   ]
  },
  {
   "cell_type": "code",
   "execution_count": 13,
   "metadata": {},
   "outputs": [],
   "source": [
    "qcode = code_info.get('qcode')\n",
    "\n",
    "hx, hz = code_info.get('hx'), code_info.get('hz')\n",
    "n, k = qcode.N, qcode.K\n",
    "lx, lz =  qcode.lx, qcode.lz"
   ]
  },
  {
   "cell_type": "code",
   "execution_count": null,
   "metadata": {},
   "outputs": [],
   "source": [
    "start_time = time.time()\n",
    "\n",
    "print('Computing code distance PARALLELIZED...')\n",
    "# We compute the distance only for Z-type logical operators (the distance for X-type logical operators is the same)\n",
    "# by solving an integer linear program (ILP). The ILP looks for a minimum weight Pauli Z-type operator which has an even overlap with each X-check\n",
    "# and an odd overlap with logical-X operator on the i-th logical qubit. Let w_i be the optimal value of this ILP.\n",
    "# Then the code distance for Z-type logical operators is dZ = min(w_1,…,w_k).\n",
    "d = qcode.get('n')\n",
    "for i in range(qcode.get('k')):\n",
    "\tw = distance_test_parallel(hx, lx[i,:])\n",
    "\tprint('Logical qubit =', i+1, 'Distance =', w)\n",
    "\td = min(d, w)\n",
    "\n",
    "print(f'\\nCode parameters: [n, k, d] = [{n}, {k}, {d}]')\n",
    "\n",
    "print('Execution Time: ', round(time.time() - start_time, 1), 'seconds')"
   ]
  }
 ],
 "metadata": {
  "kernelspec": {
   "display_name": "Python 3",
   "language": "python",
   "name": "python3"
  },
  "language_info": {
   "codemirror_mode": {
    "name": "ipython",
    "version": 3
   },
   "file_extension": ".py",
   "mimetype": "text/x-python",
   "name": "python",
   "nbconvert_exporter": "python",
   "pygments_lexer": "ipython3",
   "version": "3.9.6"
  },
  "orig_nbformat": 4
 },
 "nbformat": 4,
 "nbformat_minor": 2
}
